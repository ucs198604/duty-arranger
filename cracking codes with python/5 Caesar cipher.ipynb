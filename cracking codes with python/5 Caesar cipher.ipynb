{
 "cells": [
  {
   "cell_type": "code",
   "execution_count": 24,
   "metadata": {},
   "outputs": [],
   "source": [
    "import pyperclip\n",
    "message = 'This is my secret message#~~~.'"
   ]
  },
  {
   "cell_type": "code",
   "execution_count": 27,
   "metadata": {},
   "outputs": [],
   "source": [
    "# key = 13\n",
    "SYMBOLS = 'ABCDEFGHIJKLMNOPQRSTUVWXYZabcdefghijklmnopqrstuvwxyz1234567890 !?.'\n",
    "\n",
    "def ceasar_cipher(message, mode, key):\n",
    "    translated = ''\n",
    "    if mode == 'encrypt':\n",
    "        for character in message:\n",
    "            if character in SYMBOLS:\n",
    "                character_index = SYMBOLS.find(character)\n",
    "                new_index = SYMBOLS.find(character) + key\n",
    "                new_index = new_index%len(SYMBOLS) if new_index>=len(SYMBOLS) else new_index\n",
    "                translated = translated + SYMBOLS[new_index]\n",
    "            else:\n",
    "                translated = translated + character\n",
    "    if mode == 'decrypt':\n",
    "        for character in message:\n",
    "            if character in SYMBOLS:\n",
    "                character_index = SYMBOLS.find(character)\n",
    "                new_index = SYMBOLS.find(character) - key\n",
    "                new_index = new_index+len(SYMBOLS) if new_index<0 else new_index\n",
    "                translated = translated + SYMBOLS[new_index]\n",
    "            else:\n",
    "                translated = translated + character\n",
    "    return translated"
   ]
  },
  {
   "cell_type": "code",
   "execution_count": 28,
   "metadata": {},
   "outputs": [
    {
     "data": {
      "text/plain": [
       "'guv6Jv6Jz!J6rp5r7Jzr66ntr#~~~M'"
      ]
     },
     "execution_count": 28,
     "metadata": {},
     "output_type": "execute_result"
    }
   ],
   "source": [
    "ceasar_cipher(message, 'encrypt', 13)"
   ]
  },
  {
   "cell_type": "code",
   "execution_count": 29,
   "metadata": {},
   "outputs": [
    {
     "data": {
      "text/plain": [
       "'This is my secret message.'"
      ]
     },
     "execution_count": 29,
     "metadata": {},
     "output_type": "execute_result"
    }
   ],
   "source": [
    "ceasar_cipher('guv6Jv6Jz!J6rp5r7Jzr66ntrM', 'decrypt', 13)"
   ]
  },
  {
   "cell_type": "code",
   "execution_count": null,
   "metadata": {},
   "outputs": [],
   "source": []
  },
  {
   "cell_type": "code",
   "execution_count": null,
   "metadata": {},
   "outputs": [],
   "source": []
  }
 ],
 "metadata": {
  "kernelspec": {
   "display_name": "Python 3",
   "language": "python",
   "name": "python3"
  },
  "language_info": {
   "codemirror_mode": {
    "name": "ipython",
    "version": 3
   },
   "file_extension": ".py",
   "mimetype": "text/x-python",
   "name": "python",
   "nbconvert_exporter": "python",
   "pygments_lexer": "ipython3",
   "version": "3.7.4"
  }
 },
 "nbformat": 4,
 "nbformat_minor": 4
}
