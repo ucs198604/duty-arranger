{
 "cells": [
  {
   "cell_type": "markdown",
   "metadata": {},
   "source": [
    "### Basics of Linear Algebra for Machine Learning -- Discover the Mathematical Language of Data in Python"
   ]
  },
  {
   "cell_type": "markdown",
   "metadata": {},
   "source": [
    "## Introduction\n",
    "- linear algebra is the math of data; matrices and vectors are the language of data\n",
    "- linear algebra is a valuable tool in statistics\n",
    "- matrix fatorization (used in PCA), linear least squares (used in regression), eigendecomposition, singular value decomposition (used for dimension reduction, feature selection, visualization, noise reduction...)\n",
    "- row -> each observation; column -> features\n"
   ]
  },
  {
   "cell_type": "markdown",
   "metadata": {},
   "source": [
    "## Numpy"
   ]
  },
  {
   "cell_type": "markdown",
   "metadata": {},
   "source": [
    "### Basic ndarray operations"
   ]
  },
  {
   "cell_type": "code",
   "execution_count": 40,
   "metadata": {},
   "outputs": [
    {
     "data": {
      "text/plain": [
       "numpy.ndarray"
      ]
     },
     "execution_count": 40,
     "metadata": {},
     "output_type": "execute_result"
    }
   ],
   "source": [
    "# np.array()\n",
    "from numpy import array\n",
    "import numpy as np\n",
    "data = [1,2,3,4,5]\n",
    "\n",
    "data = array(data)\n",
    "type(data)"
   ]
  },
  {
   "cell_type": "code",
   "execution_count": 21,
   "metadata": {},
   "outputs": [
    {
     "name": "stdout",
     "output_type": "stream",
     "text": [
      "2\n",
      "2\n",
      "[1 2 3 4 5]\n",
      "[1 2 3 4 5]\n"
     ]
    }
   ],
   "source": [
    "# array indexing\n",
    "\n",
    "data2 = [[1,2,3,4,5],[6,7,8,9,0]]\n",
    "data2 = array(data2)\n",
    "\n",
    "# both methods will do\n",
    "print(data2[0,1])\n",
    "print(data2[0][1])\n",
    "\n",
    "# same method\n",
    "print(data2[0])\n",
    "print(data2[0,])"
   ]
  },
  {
   "cell_type": "code",
   "execution_count": 37,
   "metadata": {},
   "outputs": [],
   "source": [
    "# slicing\n",
    "data2 = [[1,2,3,4,5],\n",
    "         [6,7,8,9,0]]\n",
    "data2 = array(data2)\n",
    "\n",
    "data2[0:1][2:] # this returns empty of shape=(0,5)\n",
    "data2[0:1,2:] # this is the correct expression\n",
    "\n",
    "# for slicing X (input) and y (output features)\n",
    "X = data2[:, :-1]\n",
    "y = data2[:, -1]  # [5,0], becoming 1D array, y.shape = (2,)\n",
    "\n",
    "# for spliting train and test rows\n",
    "split = 3\n",
    "train = data2[:split, :]\n",
    "test = data2[split:, :]\n",
    "train, test = data2[:split, :], data2[split:, :]\n",
    "\n",
    "\n"
   ]
  },
  {
   "cell_type": "code",
   "execution_count": 60,
   "metadata": {},
   "outputs": [
    {
     "data": {
      "text/plain": [
       "(8, 1)"
      ]
     },
     "execution_count": 60,
     "metadata": {},
     "output_type": "execute_result"
    }
   ],
   "source": [
    "# reshape 1D to 2D\n",
    "# after slicing, y may become 1D array\n",
    "# eg. scikit-learn requires 2-D array to be the output variable\n",
    "\n",
    "# np.reshape(array, (n,m))\n",
    "# ndarray.reshape(n,m)\n",
    "\n",
    "arrayA = np.arange(8)\n",
    "# arrayA = array([0, 1, 2, 3, 4, 5, 6, 7])\n",
    "\n",
    "# same expression\n",
    "np.reshape(arrayA, (2, 4))  # if nxm not match -> arise error\n",
    "arrayA.reshape(2,4)\n",
    "arrayA.reshape((2,4))\n",
    "arrayA.reshape(-1,4) # use -1 as an unspecified argument\n",
    "\n",
    "arrayA = arrayA.reshape(-1,1)  # convert to nx1, 2D array\n",
    "arrayA.shape # (8,) to (8,1)"
   ]
  },
  {
   "cell_type": "code",
   "execution_count": null,
   "metadata": {},
   "outputs": [],
   "source": []
  }
 ],
 "metadata": {
  "kernelspec": {
   "display_name": "Python 3",
   "language": "python",
   "name": "python3"
  },
  "language_info": {
   "codemirror_mode": {
    "name": "ipython",
    "version": 3
   },
   "file_extension": ".py",
   "mimetype": "text/x-python",
   "name": "python",
   "nbconvert_exporter": "python",
   "pygments_lexer": "ipython3",
   "version": "3.7.3"
  }
 },
 "nbformat": 4,
 "nbformat_minor": 2
}
