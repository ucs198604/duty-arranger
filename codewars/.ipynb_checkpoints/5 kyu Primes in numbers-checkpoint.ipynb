{
 "cells": [
  {
   "cell_type": "code",
   "execution_count": null,
   "metadata": {},
   "outputs": [],
   "source": [
    "import string\n",
    "\n",
    "def is_pangram(s):\n",
    "    list1 = [x for x in 'abcdefghijklmnopqrstuvwxyz']\n",
    "    for alph in s:\n",
    "        print(alph)\n",
    "        try:\n",
    "            list1.remove(alph.lower())\n",
    "        except:\n",
    "            pass\n",
    "    print(len(list1))\n",
    "    print(list1)\n",
    "    return len(list1)==0\n",
    "\n",
    "is_pangram('hi a')"
   ]
  },
  {
   "cell_type": "code",
   "execution_count": 89,
   "metadata": {},
   "outputs": [],
   "source": [
    "def primeFactors(n):\n",
    "    table1 = list(0 for i in range(round(n/2))) # create table, up to 1/2 size of n\n",
    "    current = n\n",
    "    index = [2] + list(range(3,round(n/2),2))\n",
    "    # print(index)\n",
    "    for i in index:\n",
    "        check=1\n",
    "        while check ==1:\n",
    "            if current ==1:\n",
    "                check =0\n",
    "            elif current%i == 0:\n",
    "                table1[i]+=1\n",
    "                check = 1\n",
    "                current /=i\n",
    "                # print(i)\n",
    "            elif current%i != 0:\n",
    "                check = 0\n",
    "    output = ''\n",
    "    if sum(table1) ==0:\n",
    "        output = n\n",
    "    else:\n",
    "        for j in index:\n",
    "            if table1[j] ==1:\n",
    "                output = f\"{output}({j})\"\n",
    "            if table1[j] >1:\n",
    "                output = f\"{output}({j}**{table1[j]})\"\n",
    "    # print(output)\n",
    "    # (2**2)(3**3)(5)(7)(11**2)(17)\n",
    "    return output\n",
    "    "
   ]
  },
  {
   "cell_type": "code",
   "execution_count": 92,
   "metadata": {},
   "outputs": [
    {
     "data": {
      "text/plain": [
       "'(2**2)(5**2)'"
      ]
     },
     "execution_count": 92,
     "metadata": {},
     "output_type": "execute_result"
    }
   ],
   "source": [
    "primeFactors(100)"
   ]
  },
  {
   "cell_type": "code",
   "execution_count": 5,
   "metadata": {},
   "outputs": [],
   "source": [
    "from math import sqrt\n",
    "\n",
    "def primeFactors(n):\n",
    "    # table1 = list(0 for i in range(round(n/2))) # create table, up to 1/2 size of n\n",
    "    table2=[]\n",
    "    current = n\n",
    "    index = [2] + list(range(3,round(sqrt(n)),2))\n",
    "    # print(index)\n",
    "    for i in index:\n",
    "        check=1\n",
    "        while check ==1 and current >=i:\n",
    "            if current ==1:\n",
    "                check =0\n",
    "            elif current%i == 0:\n",
    "                table2.append(i)  # add new factor\n",
    "                check = 1\n",
    "                current /=i\n",
    "                # print(i)\n",
    "            elif current%i != 0:\n",
    "                check = 0\n",
    "\n",
    "            \n",
    "    output = ''\n",
    "    if table2 ==[]:\n",
    "        table2.append(n)\n",
    "\n",
    "    for j in range(len(table2)):\n",
    "        count = table2.count(table2[j])\n",
    "        if count ==1:\n",
    "            output = f\"{output}({table2[j]})\"\n",
    "        if count >1 and table2[j]!=table2[j-1]:\n",
    "            output = f\"{output}({table2[j]}**{count})\"\n",
    "        \n",
    "    # print(output)\n",
    "    # (2**2)(3**3)(5)(7)(11**2)(17)\n",
    "    return output\n",
    "    "
   ]
  },
  {
   "cell_type": "code",
   "execution_count": 9,
   "metadata": {},
   "outputs": [
    {
     "data": {
      "text/plain": [
       "'(2**5)(5**5)'"
      ]
     },
     "execution_count": 9,
     "metadata": {},
     "output_type": "execute_result"
    }
   ],
   "source": [
    "primeFactors(100000)"
   ]
  },
  {
   "cell_type": "code",
   "execution_count": null,
   "metadata": {},
   "outputs": [],
   "source": []
  }
 ],
 "metadata": {
  "kernelspec": {
   "display_name": "Python 3",
   "language": "python",
   "name": "python3"
  },
  "language_info": {
   "codemirror_mode": {
    "name": "ipython",
    "version": 3
   },
   "file_extension": ".py",
   "mimetype": "text/x-python",
   "name": "python",
   "nbconvert_exporter": "python",
   "pygments_lexer": "ipython3",
   "version": "3.7.3"
  }
 },
 "nbformat": 4,
 "nbformat_minor": 2
}
