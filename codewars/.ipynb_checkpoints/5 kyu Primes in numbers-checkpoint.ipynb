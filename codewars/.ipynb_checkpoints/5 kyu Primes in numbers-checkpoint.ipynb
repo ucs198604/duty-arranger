{
 "cells": [
  {
   "cell_type": "code",
   "execution_count": null,
   "metadata": {},
   "outputs": [],
   "source": []
  },
  {
   "cell_type": "code",
   "execution_count": 176,
   "metadata": {},
   "outputs": [],
   "source": [
    "from math import sqrt\n",
    "\n",
    "def primeFactors(n):\n",
    "    table2=[]\n",
    "    current = n\n",
    "    \n",
    "    while current%2==0:\n",
    "        table2.append(2)\n",
    "        current = int(current/2)\n",
    "        \n",
    "    \n",
    "    for i in range(3,current+1,2):\n",
    "        if current ==1:\n",
    "            break\n",
    "        check=1\n",
    "        while check ==1:\n",
    "            mod = current%i\n",
    "            if current ==1:\n",
    "                check =0\n",
    "            elif mod == 0:\n",
    "                table2.append(i)  # add new factor\n",
    "                check = 1\n",
    "                current /=i\n",
    "            else:\n",
    "                check = 0\n",
    "\n",
    "    output = ''\n",
    "\n",
    "    previous = 0\n",
    "    for j in range(len(table2)):\n",
    "        count = table2.count(table2[j])\n",
    "        if count ==1:\n",
    "            output = f\"{output}({table2[j]})\"\n",
    "        if count >1 and table2[j]!=previous:\n",
    "            output = f\"{output}({table2[j]}**{count})\"\n",
    "        previous = table2[j]\n",
    "    \n",
    "    if table2 ==[]:  # n is a prime number\n",
    "        table2.append(n)\n",
    "    print(output)\n",
    "    \n",
    "    return output\n",
    "    "
   ]
  },
  {
   "cell_type": "code",
   "execution_count": 177,
   "metadata": {},
   "outputs": [
    {
     "name": "stdout",
     "output_type": "stream",
     "text": [
      "(2**7)(113)\n"
     ]
    },
    {
     "data": {
      "text/plain": [
       "'(2**7)(113)'"
      ]
     },
     "execution_count": 177,
     "metadata": {},
     "output_type": "execute_result"
    }
   ],
   "source": [
    "primeFactors(14464)"
   ]
  },
  {
   "cell_type": "code",
   "execution_count": 109,
   "metadata": {},
   "outputs": [
    {
     "data": {
      "text/plain": [
       "200"
      ]
     },
     "execution_count": 109,
     "metadata": {},
     "output_type": "execute_result"
    }
   ],
   "source": []
  },
  {
   "cell_type": "markdown",
   "metadata": {},
   "source": [
    "Great solution"
   ]
  },
  {
   "cell_type": "code",
   "execution_count": 170,
   "metadata": {},
   "outputs": [],
   "source": [
    "def primeFactors(n):\n",
    "    ret = ''\n",
    "    for i in range(2, n + 1):\n",
    "        num = 0\n",
    "        while(n % i == 0):\n",
    "            num += 1\n",
    "            n /= i\n",
    "        if num > 0:\n",
    "            ret += '({}{})'.format(i, '**%d' % num if num > 1 else '')\n",
    "        if n == 1:\n",
    "            return ret"
   ]
  },
  {
   "cell_type": "code",
   "execution_count": 175,
   "metadata": {},
   "outputs": [
    {
     "data": {
      "text/plain": [
       "'(3)(599597)'"
      ]
     },
     "execution_count": 175,
     "metadata": {},
     "output_type": "execute_result"
    }
   ],
   "source": [
    "primeFactors(1798791)"
   ]
  },
  {
   "cell_type": "code",
   "execution_count": null,
   "metadata": {},
   "outputs": [],
   "source": []
  }
 ],
 "metadata": {
  "kernelspec": {
   "display_name": "Python 3",
   "language": "python",
   "name": "python3"
  },
  "language_info": {
   "codemirror_mode": {
    "name": "ipython",
    "version": 3
   },
   "file_extension": ".py",
   "mimetype": "text/x-python",
   "name": "python",
   "nbconvert_exporter": "python",
   "pygments_lexer": "ipython3",
   "version": "3.7.3"
  }
 },
 "nbformat": 4,
 "nbformat_minor": 2
}
